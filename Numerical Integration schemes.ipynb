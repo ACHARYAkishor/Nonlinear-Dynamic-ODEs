{
 "cells": [
  {
   "cell_type": "markdown",
   "id": "f403f192",
   "metadata": {},
   "source": [
    "# Numerical Integration schemes\n",
    "\n",
    "Three schemes to numerically integrate. \n",
    "\n",
    "* Left sided rectangle\n",
    "* Right sided rectangle\n",
    "* Trapezoidal Rule\n",
    "* Simpson Rule"
   ]
  },
  {
   "cell_type": "code",
   "execution_count": 2,
   "id": "7ea33aef",
   "metadata": {},
   "outputs": [],
   "source": [
    "import numpy as np\n",
    "from matplotlib import pyplot as plt\n",
    "\n",
    "plt.style.use(['science', 'notebook', 'grid'])"
   ]
  },
  {
   "cell_type": "markdown",
   "id": "a046316e",
   "metadata": {},
   "source": [
    "Lets us imagine some function whose true integral value is known, so that we can compare the answer as obtained from above rules.\n",
    "\n",
    "$$\n",
    "\\int_{0}^{10} sin(x) dx = 1.8391\n",
    "$$"
   ]
  },
  {
   "cell_type": "code",
   "execution_count": 11,
   "id": "4d2d6a9b",
   "metadata": {},
   "outputs": [],
   "source": [
    "# defining \n",
    "a = 0\n",
    "b = 10\n",
    "\n",
    "# defining  function\n",
    "dx = 0.01  # fine grain\n",
    "x = np.linspace(a,b, int(b/dx))\n",
    "y = np.sin(x)\n",
    "\n",
    "# defining the length\n",
    "n = len(x)\n"
   ]
  },
  {
   "cell_type": "markdown",
   "id": "f8239809",
   "metadata": {},
   "source": [
    "#### Left rectangle Rule"
   ]
  },
  {
   "cell_type": "code",
   "execution_count": 12,
   "id": "64c6675b",
   "metadata": {},
   "outputs": [
    {
     "name": "stdout",
     "output_type": "stream",
     "text": [
      "1.8399372221391899\n"
     ]
    }
   ],
   "source": [
    "#left rectangle rule\n",
    "area1 = 0\n",
    "for i in range(n-1):\n",
    "    area1 = area1 + y[i]*dx\n",
    "print(area1)"
   ]
  },
  {
   "cell_type": "markdown",
   "id": "6f4ad667",
   "metadata": {},
   "source": [
    "#### Right rectangle Rule"
   ]
  },
  {
   "cell_type": "code",
   "execution_count": 13,
   "id": "9acb6255",
   "metadata": {},
   "outputs": [
    {
     "name": "stdout",
     "output_type": "stream",
     "text": [
      "1.8344970110302963\n"
     ]
    }
   ],
   "source": [
    "# right rectangle rule\n",
    "area2 = 0\n",
    "for i in range(n-1):\n",
    "    area2 = area2 + y[i+1]*dx\n",
    "print(area2)"
   ]
  },
  {
   "cell_type": "markdown",
   "id": "4c2fbe82",
   "metadata": {},
   "source": [
    "#### Trapezoidal  Rule"
   ]
  },
  {
   "cell_type": "code",
   "execution_count": 14,
   "id": "cee6cadb",
   "metadata": {},
   "outputs": [
    {
     "name": "stdout",
     "output_type": "stream",
     "text": [
      "1.8372171165847437\n"
     ]
    }
   ],
   "source": [
    "# Trapezoid rule\n",
    "area3 = 0\n",
    "for i in range(n-1):\n",
    "    area3 = area3 + (dx/2)*(y[i] + y[i+1])\n",
    "print(area3)"
   ]
  },
  {
   "cell_type": "markdown",
   "id": "b7e3f5e5",
   "metadata": {},
   "source": [
    "We can check the area above, the area1 (left rectangle) is over-shooting, area2 (right rectangle) is under-shooting  and area3 (trapezoidal) is more close to real value."
   ]
  },
  {
   "cell_type": "markdown",
   "id": "55a89ab3",
   "metadata": {},
   "source": [
    "####  python functions"
   ]
  },
  {
   "cell_type": "code",
   "execution_count": 15,
   "id": "6b44b491",
   "metadata": {},
   "outputs": [
    {
     "name": "stdout",
     "output_type": "stream",
     "text": [
      "1.839937222139193 1.8344970110302992 1.8390561727575014\n"
     ]
    }
   ],
   "source": [
    "# using built in python functions\n",
    "\n",
    "area1 = sum(y[:-1])*dx; # left rectangle\n",
    "area2 = sum(y[1:])*dx; # right rectangle\n",
    "area3 = np.trapz(y,x); #trapezoidal \n",
    "\n",
    "print(area1, area2, area3)\n"
   ]
  },
  {
   "cell_type": "code",
   "execution_count": null,
   "id": "9ffc17d6",
   "metadata": {},
   "outputs": [],
   "source": []
  }
 ],
 "metadata": {
  "kernelspec": {
   "display_name": "Python 3",
   "language": "python",
   "name": "python3"
  },
  "language_info": {
   "codemirror_mode": {
    "name": "ipython",
    "version": 3
   },
   "file_extension": ".py",
   "mimetype": "text/x-python",
   "name": "python",
   "nbconvert_exporter": "python",
   "pygments_lexer": "ipython3",
   "version": "3.8.8"
  }
 },
 "nbformat": 4,
 "nbformat_minor": 5
}
